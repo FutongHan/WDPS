{
 "cells": [
  {
   "cell_type": "code",
   "execution_count": 1,
   "metadata": {},
   "outputs": [],
   "source": [
    "from bs4 import BeautifulSoup, Comment\n",
    "import os\n",
    "from elasticsearch import search"
   ]
  },
  {
   "cell_type": "code",
   "execution_count": 2,
   "metadata": {},
   "outputs": [],
   "source": [
    "import spacy\n",
    "from spacy.lang.en.examples import sentences \n",
    "nlp = spacy.load('en_core_web_sm')\n",
    "\n",
    "def parse(sentence):\n",
    "    doc = nlp(sentence)\n",
    "    return [(X.text, X.label_) for X in doc.ents]"
   ]
  },
  {
   "cell_type": "code",
   "execution_count": 3,
   "metadata": {},
   "outputs": [],
   "source": [
    "def split_records(stream):\n",
    "    payload = ''\n",
    "    for line in stream:\n",
    "        if line.strip() == 'WARC/1.0':\n",
    "            yield payload\n",
    "            payload = ''\n",
    "        else:\n",
    "            payload += line"
   ]
  },
  {
   "cell_type": "code",
   "execution_count": 4,
   "metadata": {},
   "outputs": [],
   "source": [
    "def find_key(payload):\n",
    "    key = None\n",
    "    for line in payload.splitlines():\n",
    "        if line.startswith(\"WARC-TREC-ID\"):\n",
    "            key = line.split(': ')[1]\n",
    "            return key\n",
    "    return ''"
   ]
  },
  {
   "cell_type": "code",
   "execution_count": 5,
   "metadata": {},
   "outputs": [],
   "source": [
    "def record2html(record):\n",
    "### find html in warc file\n",
    "    ishtml = False\n",
    "    html = \"\"\n",
    "    for line in record.splitlines():\n",
    "        ### html starts with <html\n",
    "        if line.startswith(\"<html\"):\n",
    "            ishtml = True\n",
    "        if ishtml:\n",
    "            html += line\n",
    "    return html"
   ]
  },
  {
   "cell_type": "code",
   "execution_count": 16,
   "metadata": {},
   "outputs": [],
   "source": [
    "entity_dict = []\n",
    "def search_candidate(token):\n",
    "    entities = None\n",
    "    if entity_dict.__contains__(token):\n",
    "        entities = entity_dict[token]\n",
    "    else:\n",
    "        entities = search(elasticsearch,token).items()\n",
    "        entity_dict[token] = entities\n",
    "    return entities"
   ]
  },
  {
   "cell_type": "code",
   "execution_count": 17,
   "metadata": {},
   "outputs": [],
   "source": [
    "def html2text(record):\n",
    "    html_doc = record2html(record)\n",
    "    # Rule = \"/<.*>/\";\n",
    "    useless_tags = ['footer', 'header', 'sidebar', 'sidebar-right', 'sidebar-left', 'sidebar-wrapper', 'wrapwidget', 'widget']\n",
    "    if html_doc:\n",
    "        soup = BeautifulSoup(html_doc,\"html.parser\");\n",
    "        ### remove tags: <script> <style> <code> <title> <head>\n",
    "        [s.extract() for s in soup(['script','style', 'code','title','head','footer','header'])]\n",
    "        ### remove tags id= useless_tags\n",
    "        [s.extract() for s in soup.find_all(id = useless_tags)]\n",
    "        ### remove tags class = useless_tags\n",
    "        [s.extract() for s in soup.find_all(name='div',attrs={\"class\": useless_tags})]\n",
    "        ### remove comments\n",
    "        for element in soup(s=lambda s: isinstance(s, Comment)):\n",
    "            element.extract()\n",
    "        # text = soup.get_text(\"\\n\", strip=True)\n",
    "\n",
    "        ### get text in <p></p>\n",
    "        paragraph = soup.find_all(\"p\")\n",
    "        text = \"\"\n",
    "        for p in paragraph:\n",
    "            if p.get_text(\" \", strip=True) != '':\n",
    "                text += p.get_text(\" \", strip=True)+\"\\n\"\n",
    "        if text ==  \"\":\n",
    "            text = soup.get_text(\" \", strip=True)\n",
    "        # text = re.sub(Rule, \"\", text)\n",
    "        # escape character\n",
    "        # soup_sec = BeautifulSoup(text,\"html.parser\")\n",
    "\n",
    "        return text\n",
    "    return \"\""
   ]
  },
  {
   "cell_type": "code",
   "execution_count": 18,
   "metadata": {},
   "outputs": [
    {
     "ename": "NameError",
     "evalue": "name 'elasticsearch' is not defined",
     "output_type": "error",
     "traceback": [
      "\u001b[1;31m---------------------------------------------------------------------------\u001b[0m",
      "\u001b[1;31mNameError\u001b[0m                                 Traceback (most recent call last)",
      "\u001b[1;32m<ipython-input-18-0d7407ed32e0>\u001b[0m in \u001b[0;36m<module>\u001b[1;34m()\u001b[0m\n\u001b[0;32m      9\u001b[0m \u001b[1;31m#             print([(X.text, X.label_) for X in doc.ents])\u001b[0m\u001b[1;33m\u001b[0m\u001b[1;33m\u001b[0m\u001b[0m\n\u001b[0;32m     10\u001b[0m             \u001b[1;32mfor\u001b[0m \u001b[0mX\u001b[0m \u001b[1;32min\u001b[0m \u001b[0mdoc\u001b[0m\u001b[1;33m.\u001b[0m\u001b[0ments\u001b[0m\u001b[1;33m:\u001b[0m\u001b[1;33m\u001b[0m\u001b[0m\n\u001b[1;32m---> 11\u001b[1;33m                  \u001b[0mentities\u001b[0m \u001b[1;33m=\u001b[0m \u001b[0msearch_candidate\u001b[0m\u001b[1;33m(\u001b[0m\u001b[0mX\u001b[0m\u001b[1;33m.\u001b[0m\u001b[0mtext\u001b[0m\u001b[1;33m)\u001b[0m\u001b[1;33m\u001b[0m\u001b[0m\n\u001b[0m",
      "\u001b[1;32m<ipython-input-16-20e613b1208e>\u001b[0m in \u001b[0;36msearch_candidate\u001b[1;34m(token)\u001b[0m\n\u001b[0;32m      5\u001b[0m         \u001b[0mentities\u001b[0m \u001b[1;33m=\u001b[0m \u001b[0mentity_dict\u001b[0m\u001b[1;33m[\u001b[0m\u001b[0mtoken\u001b[0m\u001b[1;33m]\u001b[0m\u001b[1;33m\u001b[0m\u001b[0m\n\u001b[0;32m      6\u001b[0m     \u001b[1;32melse\u001b[0m\u001b[1;33m:\u001b[0m\u001b[1;33m\u001b[0m\u001b[0m\n\u001b[1;32m----> 7\u001b[1;33m         \u001b[0mentities\u001b[0m \u001b[1;33m=\u001b[0m \u001b[0msearch\u001b[0m\u001b[1;33m(\u001b[0m\u001b[0melasticsearch\u001b[0m\u001b[1;33m,\u001b[0m\u001b[0mtoken\u001b[0m\u001b[1;33m)\u001b[0m\u001b[1;33m.\u001b[0m\u001b[0mitems\u001b[0m\u001b[1;33m(\u001b[0m\u001b[1;33m)\u001b[0m\u001b[1;33m\u001b[0m\u001b[0m\n\u001b[0m\u001b[0;32m      8\u001b[0m         \u001b[0mentity_dict\u001b[0m\u001b[1;33m[\u001b[0m\u001b[0mtoken\u001b[0m\u001b[1;33m]\u001b[0m \u001b[1;33m=\u001b[0m \u001b[0mentities\u001b[0m\u001b[1;33m\u001b[0m\u001b[0m\n\u001b[0;32m      9\u001b[0m     \u001b[1;32mreturn\u001b[0m \u001b[0mentities\u001b[0m\u001b[1;33m\u001b[0m\u001b[0m\n",
      "\u001b[1;31mNameError\u001b[0m: name 'elasticsearch' is not defined"
     ]
    }
   ],
   "source": [
    "with open('0000tw-00.warc.565132',errors = 'ignore') as f:\n",
    "    for record in split_records(f):\n",
    "        key = find_key(record)\n",
    "        if key != '':\n",
    "            #print(key)\n",
    "            html = html2text(record)\n",
    "            #print(html)\n",
    "            doc = nlp(html.replace('\\\"',' ').replace('\\'',' ').replace('|',' '))\n",
    "#             print([(X.text, X.label_) for X in doc.ents])\n",
    "            for X in doc.ents:\n",
    "                 entities = search_candidate(X.text)\n",
    "#             It does not work. I want to use elasticsearch.py as the function and write a function search_candidate to use it "
   ]
  },
  {
   "cell_type": "code",
   "execution_count": null,
   "metadata": {},
   "outputs": [],
   "source": []
  }
 ],
 "metadata": {
  "kernelspec": {
   "display_name": "Python 3",
   "language": "python",
   "name": "python3"
  },
  "language_info": {
   "codemirror_mode": {
    "name": "ipython",
    "version": 3
   },
   "file_extension": ".py",
   "mimetype": "text/x-python",
   "name": "python",
   "nbconvert_exporter": "python",
   "pygments_lexer": "ipython3",
   "version": "3.6.5"
  }
 },
 "nbformat": 4,
 "nbformat_minor": 2
}
